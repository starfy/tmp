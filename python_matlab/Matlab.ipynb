{
 "cells": [
  {
   "cell_type": "markdown",
   "metadata": {},
   "source": [
    "# 導入環境\n",
    "\n",
    "+ MacOS 10.14.5\n",
    "+ Matlab2019a\n",
    "+ Python : anaconda3-5.3.1\n",
    "\n",
    "# セットアップ\n",
    "\n",
    "1. GUIのmatlabを立ち上げる\n",
    "2. matlabのコンソールに以下のコードを打ってから、パスを取得\n",
    "    + `cd (fullfile(matlabroot,'extern','engines','python'))`\n",
    "    + `pwd`\n",
    "3. ターミナルを開いて、さっき表示したpathに移動する\n",
    "    + `cd /Applications/MATLAB_R2019a.app/extern/engines/python` ←これは星野の環境\n",
    "    + `python setup.py install`\n",
    "4. おしまい\n",
    "\n",
    "**注意点**\n",
    "\n",
    "1. 以下のコマンドのようにmatlabのコンソールからインストールできるものの、system（anaconda環境ではないdefault環境）インストールされてしまう。\n",
    "    * `system('python setup.py install')`\n",
    "2. `pip install matlab` ← では `import matlab.engine` がロードできなかった"
   ]
  },
  {
   "cell_type": "code",
   "execution_count": 1,
   "metadata": {},
   "outputs": [],
   "source": [
    "# matlab\n",
    "import matlab.engine"
   ]
  },
  {
   "cell_type": "code",
   "execution_count": 2,
   "metadata": {},
   "outputs": [],
   "source": [
    "# 以後、このengを通じてmatlabの関数を呼ぶ\n",
    "eng = matlab.engine.start_matlab()"
   ]
  },
  {
   "cell_type": "code",
   "execution_count": 3,
   "metadata": {},
   "outputs": [
    {
     "name": "stdout",
     "output_type": "stream",
     "text": [
      "[[17.0,24.0,1.0,8.0,15.0],[23.0,5.0,7.0,14.0,16.0],[4.0,6.0,13.0,20.0,22.0],[10.0,12.0,19.0,21.0,3.0],[11.0,18.0,25.0,2.0,9.0]]\n"
     ]
    }
   ],
   "source": [
    "# matlabの組み込み関数\n",
    "matrix = eng.magic(5)\n",
    "print(matrix)"
   ]
  },
  {
   "cell_type": "markdown",
   "metadata": {},
   "source": [
    "----\n",
    "このipynbが置かれているところに `func.m` を作り、以下のような内容にした\n",
    "\n",
    "```\n",
    "function output = testFuncA(x)\n",
    "  output = x * 10 + 1;\n",
    "end\n",
    "```"
   ]
  },
  {
   "cell_type": "code",
   "execution_count": 4,
   "metadata": {},
   "outputs": [
    {
     "data": {
      "text/plain": [
       "11"
      ]
     },
     "execution_count": 4,
     "metadata": {},
     "output_type": "execute_result"
    }
   ],
   "source": [
    "# 自作関数\n",
    "eng.func(1)"
   ]
  },
  {
   "cell_type": "code",
   "execution_count": 5,
   "metadata": {},
   "outputs": [
    {
     "data": {
      "text/plain": [
       "1011"
      ]
     },
     "execution_count": 5,
     "metadata": {},
     "output_type": "execute_result"
    }
   ],
   "source": [
    "# 自作関数\n",
    "eng.func(101)"
   ]
  },
  {
   "cell_type": "code",
   "execution_count": null,
   "metadata": {},
   "outputs": [],
   "source": []
  }
 ],
 "metadata": {
  "kernelspec": {
   "display_name": "Python 3",
   "language": "python",
   "name": "python3"
  },
  "language_info": {
   "codemirror_mode": {
    "name": "ipython",
    "version": 3
   },
   "file_extension": ".py",
   "mimetype": "text/x-python",
   "name": "python",
   "nbconvert_exporter": "python",
   "pygments_lexer": "ipython3",
   "version": "3.7.2"
  }
 },
 "nbformat": 4,
 "nbformat_minor": 2
}
